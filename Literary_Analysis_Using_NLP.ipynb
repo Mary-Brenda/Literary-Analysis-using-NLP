{
 "cells": [
  {
   "cell_type": "markdown",
   "metadata": {},
   "source": [
    "# So You Want to Write a Short Story Masterpiece?: A Literary Analysis and Classification of Award-winning Stories by African and European Authors"
   ]
  },
  {
   "cell_type": "markdown",
   "metadata": {},
   "source": [
    "### Theme chosen: Literary Masterpiece"
   ]
  },
  {
   "cell_type": "markdown",
   "metadata": {},
   "source": [
    "## Background, Aims and Objectives\n",
    "The Thing Around Your Neck, a collection of short stories by Chimamanda Ngozi Adichie, the award-winning Nigerian author, has unsurprisingly been called a masterpiece of African Literature with reviews such as \"She makes storytelling seem as easy as birdsong\" (Daily Telegraph) and \"Stunning. Like all fine storytellers, she leaves us wanting more\" (The Times). On the other hand, \"The Grotesques\" and \"Mrs. Fox\", two short stories by the British author, Sarah Hall, won the BBC National Short Story Award in two different years, establishing Hall as a writer of European short story masterpieces. But for writers who dream of following this path, what exactly makes a short story masterpiece, and what stories resonate with audiences of a particular region to be crowned? We will answer these questions and more (in two sections) by analysing a collection of works by both authors, Adichie and Hall, using the tools available to us. \n",
    "\n",
    "### In the first section, we will gain some insights into and answer the following questions (not necessarily in this order):\n",
    "* What elements make up a short story masterpiece?\n",
    "* Do these elements resonate more in one author's work than in another and how might the authors' environment and culture affect their writing?\n",
    "* What important themes constitute a short story masterpiece?\n",
    "* Based on the critical acclaim of these authors' works, what genre (specifically positive or negative) might be more widely received and does this differ by region? (We will use sentiment analysis to answer this question)\n",
    "\n",
    "### In the second section, we will use machine learning to aid writers in better targeting their audience or even in capturing audiences of a different region by:\n",
    "* Classifying and therefore, determining what stories might be more relatable to, and thus considered to be geared towards, an African audience and what might be more relatable to, and thus considered to be geared towards, a European audience.\n",
    "* Testing the accuracy of our machine model by using a test set, then stories not in our dataset, but from the same authors, and finally, stories not in our dataset and by different African and European authors.\n",
    "* Critically evaluating the accuracy of our machine model and providing solutions for how our model can be improved to better serve as a tool for upcoming and established writers.\n",
    "\n",
    "NOTE: This project uses the pronouns, \"We\" and \"our\" to keep the reader engaged. Where necessary, the pronoun defaults to \"I\" to explain some decisions taken. Furthermore, sources are cited inline and only sources not already mentioned are included in the references section at the end of the notebook (including learning resources used to provide further evidence of engagement with wider academic literature besides that provided in the main work). In addition, this notebook follows the PEP8 naming convention, especially for function names."
   ]
  },
  {
   "cell_type": "markdown",
   "metadata": {},
   "source": [
    "## About the Authors\n",
    "Chimamanda Ngozi Adichie is a Nigerian writer whose works range from novels to short stories to nonfiction. She was described in The Times Literary Supplement as \"the most prominent\" of a \"procession of critically acclaimed young anglophone authors which is succeeding in attracting a new generation of readers to African literature\", particularly in her second home, the United States."
   ]
  },
  {
   "cell_type": "code",
   "execution_count": 67,
   "metadata": {},
   "outputs": [
    {
     "name": "stdout",
     "output_type": "stream",
     "text": [
      "Sarah Hall is the author of five novels - Haweswater, The Electric Michelangelo (shortlisted for the Man Booker Prize), The Carhullan Army, How to Paint a Dead Man and The Wolf Border. Her most recent work is Madame Zero – a collection of short stories which includes Mrs Fox (the story won the BBC National Short Story award in 2013).\n"
     ]
    }
   ],
   "source": [
    "# About Sarah Hall (to be used in webscraping code block later)\n",
    "about_sarah_hall = \"Sarah Hall is the author of five novels - Haweswater, The Electric Michelangelo (shortlisted for the Man Booker Prize), The Carhullan Army, How to Paint a Dead Man and The Wolf Border. Her most recent work is Madame Zero – a collection of short stories which includes Mrs Fox (the story won the BBC National Short Story award in 2013).\"\n",
    "print(about_sarah_hall)"
   ]
  },
  {
   "cell_type": "markdown",
   "metadata": {},
   "source": [
    "## Firstly, some housekeeping: we need to import the following libraries."
   ]
  },
  {
   "cell_type": "code",
   "execution_count": 68,
   "metadata": {},
   "outputs": [
    {
     "name": "stderr",
     "output_type": "stream",
     "text": [
      "[nltk_data] Downloading package averaged_perceptron_tagger to\n",
      "[nltk_data]     C:\\Users\\Brenda Akoda\\AppData\\Roaming\\nltk_data...\n",
      "[nltk_data]   Package averaged_perceptron_tagger is already up-to-\n",
      "[nltk_data]       date!\n",
      "[nltk_data] Downloading package vader_lexicon to C:\\Users\\Brenda\n",
      "[nltk_data]     Akoda\\AppData\\Roaming\\nltk_data...\n",
      "[nltk_data]   Package vader_lexicon is already up-to-date!\n"
     ]
    }
   ],
   "source": [
    "import nltk\n",
    "import numpy as np\n",
    "import matplotlib.pyplot as plt\n",
    "import nltk.classify.util\n",
    "import requests\n",
    "import json\n",
    "import math\n",
    "import re\n",
    "import sys  # For error handling\n",
    "import os   # For operating system interaction\n",
    "from bs4 import BeautifulSoup\n",
    "from nltk import wordpunct_tokenize\n",
    "from nltk import sent_tokenize\n",
    "from nltk.corpus import stopwords\n",
    "from nltk.probability import FreqDist\n",
    "from nltk.text import Text\n",
    "from nltk.corpus import wordnet\n",
    "from nltk.stem import PorterStemmer\n",
    "from nltk.stem import SnowballStemmer\n",
    "from nltk.stem import LancasterStemmer\n",
    "from nltk.stem import WordNetLemmatizer\n",
    "from nltk.tag import pos_tag\n",
    "nltk.download('averaged_perceptron_tagger')\n",
    "from nltk.sentiment.vader import SentimentIntensityAnalyzer\n",
    "nltk.download('vader_lexicon')\n",
    "from nltk.classify import NaiveBayesClassifier\n",
    "%matplotlib inline\n",
    "\n",
    "try:\n",
    "    import cPickle as pickle\n",
    "except:\n",
    "    import pickle\n",
    "import pprint"
   ]
  },
  {
   "cell_type": "markdown",
   "metadata": {},
   "source": [
    "### Discussing Ethics of Use limiting Project Scope\n",
    "Before we begin our analysis, it is important to mention the other approach that was used before the decision to focus on the works of Sarah Hall and Chimamanda Adichie.\n",
    "Initially, this project was to compare the works of those who won the Commonwealth Short Story competition, particularly the winning works from Africa and Canada and Europe. These works were available on the Granta website, however, in considering the ethics of use of the data, I decided not to continue with the initial approach as the Granta website's terms and condition page (see: https://granta.com/terms/) clearly states that it is not acceptable to retrieve works from their site. Besides these terms, their website prevented access to these works via webscraping."
   ]
  },
  {
   "cell_type": "code",
   "execution_count": 69,
   "metadata": {},
   "outputs": [],
   "source": [
    "# Get access to the data at a particular URL\n",
    "def get_soup (URL, jar=None):\n",
    "    if jar:\n",
    "        r = requests.get(URL, cookies=jar)\n",
    "    else:\n",
    "        r = requests.get(URL) # Get URL\n",
    "        jar = requests.cookies.RequestsCookieJar()\n",
    "    print(r.url) # Display the URL of the accessed site.\n",
    "    data = r.text # Get data from URL\n",
    "    soup = BeautifulSoup(data, \"html.parser\") # Get BeautifulSoup parser.\n",
    "    return soup, jar"
   ]
  },
  {
   "cell_type": "markdown",
   "metadata": {},
   "source": [
    "Just for demonstration purposes, this is the prohibition message that we might get if trying to webscrape the Granta site.\n",
    "\n",
    "NOTE: The function above is required to access the data at any URL specified for webscraping."
   ]
  },
  {
   "cell_type": "code",
   "execution_count": 70,
   "metadata": {},
   "outputs": [
    {
     "name": "stdout",
     "output_type": "stream",
     "text": [
      "https://granta.com/wherever-mister-jensen-went/\n"
     ]
    },
    {
     "data": {
      "text/plain": [
       "[<p>You don't have permission to access this resource.</p>]"
      ]
     },
     "execution_count": 70,
     "metadata": {},
     "output_type": "execute_result"
    }
   ],
   "source": [
    "soup, jar = get_soup(\"https://granta.com/wherever-mister-jensen-went/\")\n",
    "article = soup.find_all(\"p\")\n",
    "article"
   ]
  },
  {
   "cell_type": "markdown",
   "metadata": {},
   "source": [
    "Hence, the dataset was redefined to consider those works that were ethical to use for academic purposes."
   ]
  },
  {
   "cell_type": "markdown",
   "metadata": {},
   "source": [
    "## Getting Sarah Hall's works\n",
    "Three of Sarah Hall's works were freely and publicly available at certain sites (These sites are displayed below when we call the function get_soup). Hence, I scraped these sites to retrieve each short story and store them in a list for later data analysis."
   ]
  },
  {
   "cell_type": "code",
   "execution_count": 71,
   "metadata": {},
   "outputs": [],
   "source": [
    "# Create a list to store Hall's 3 stories.\n",
    "hall_stories = [\"\"] * 3"
   ]
  },
  {
   "cell_type": "markdown",
   "metadata": {},
   "source": [
    "* ## Retrieving \"The Grotesques\" by Sarah Hall"
   ]
  },
  {
   "cell_type": "code",
   "execution_count": 72,
   "metadata": {},
   "outputs": [
    {
     "name": "stdout",
     "output_type": "stream",
     "text": [
      "https://www.theguardian.com/books/2020/oct/06/master-of-short-story-sarah-hall-becomes-first-to-win-bbc-prize-twice\n"
     ]
    }
   ],
   "source": [
    "# Get the URL of the first work.\n",
    "soup, jar = get_soup(\"https://www.theguardian.com/books/2020/oct/06/master-of-short-story-sarah-hall-becomes-first-to-win-bbc-prize-twice\")"
   ]
  },
  {
   "cell_type": "code",
   "execution_count": 73,
   "metadata": {
    "tags": []
   },
   "outputs": [],
   "source": [
    "# Find the sroty section\n",
    "story_section = soup.find(\"div\", {\"class\": \"content__article-body\"})\n",
    "story_title1 = story_section.h2\n",
    "\n",
    "# Append story to list.\n",
    "story_body1 = story_title1.find_next_siblings(\"p\")\n",
    "for paragraph in story_body1:\n",
    "    hall_stories[0] += paragraph.text + \" \"\n",
    "\n",
    "# Get story title.\n",
    "story_title1 = story_title1.text[0:14]"
   ]
  },
  {
   "cell_type": "markdown",
   "metadata": {},
   "source": [
    "* ## Retrieving \"Wilderness\" by Sarah Hall"
   ]
  },
  {
   "cell_type": "code",
   "execution_count": 74,
   "metadata": {},
   "outputs": [
    {
     "name": "stdout",
     "output_type": "stream",
     "text": [
      "https://www.theguardian.com/books/2013/mar/18/wilderness-sarah-hall-short-story\n"
     ]
    }
   ],
   "source": [
    "# Get the URL of the second story.\n",
    "soup, jar = get_soup(\"https://www.theguardian.com/books/2013/mar/18/wilderness-sarah-hall-short-story\")"
   ]
  },
  {
   "cell_type": "code",
   "execution_count": 75,
   "metadata": {},
   "outputs": [],
   "source": [
    "# Get story title.\n",
    "story_title2 = soup.find(\"h1\")\n",
    "story_title2 = story_title2.text[0:10]\n",
    "\n",
    "# Find and append story to list.\n",
    "story_section = soup.find(\"div\", {\"class\": \"article-body-viewer-selector\"})\n",
    "if story_section != None:\n",
    "    story_body2 = story_section.findChildren(\"p\")\n",
    "for paragraph in story_body2:\n",
    "    hall_stories[1] += paragraph.text + \" \"\n",
    "\n",
    "hall_stories[1] = hall_stories[1][:-70] # Strip off unrelated text towards the end."
   ]
  },
  {
   "cell_type": "markdown",
   "metadata": {},
   "source": [
    "* ## Retrieving \"Mrs Fox\" by Sarah Hall"
   ]
  },
  {
   "cell_type": "code",
   "execution_count": 76,
   "metadata": {},
   "outputs": [
    {
     "name": "stdout",
     "output_type": "stream",
     "text": [
      "https://www.toa.st/magazine/mrs-fox-short-story-sarah-hall.htm\n"
     ]
    }
   ],
   "source": [
    "soup, jar = get_soup(\"https://www.toa.st/magazine/mrs-fox-short-story-sarah-hall.htm\")"
   ]
  },
  {
   "cell_type": "code",
   "execution_count": 77,
   "metadata": {},
   "outputs": [],
   "source": [
    "# Get story title.\n",
    "story_title3 = soup.find(\"h1\")\n",
    "story_title3 = story_title3.text[0:7]\n",
    "\n",
    "# Get story.\n",
    "story_section = soup.findAll(\"p\")\n",
    "for paragraph in story_section:\n",
    "    if paragraph.text == about_sarah_hall:\n",
    "        break\n",
    "    hall_stories[2] += paragraph.text + \" \""
   ]
  },
  {
   "cell_type": "markdown",
   "metadata": {},
   "source": [
    "## Getting Chimamanda Adichie's works\n",
    "Two of Chimamanda Adichie's works were freely and publicly available to use online at \n",
    "https://www.prospectmagazine.co.uk/author/Chimamanda-Ngozi-Adichie\n",
    "\n",
    "The entire collection was also published on the Women of Dartmouth organisation website in pdf format: http://women.dartmouth.org/s/1353/images/gid294/editor_documents/events/new_york_book_club/chimamanda-ngozi-adichie-the-thing-around-your.pdf?gid=294&pgid=61&sessionid=f133b40d-1b47-452e-863e-11461097aa34&cc=1.\n",
    "Note that the choice of these three short stories from her short story collection, The Thing Around Your Neck, was made based on a poll of readers' favourite stories from the collection: https://www.goodreads.com/questions/848584-what-was-your-favourite-story-from-the.\n",
    "\n",
    "That stated, for some variety and to combine different techniques, I chose to manually retrieve each story from these sites, save them in individual text files stored in a directory, and then use Python and the OS library to import all the files in that directory (using the function, import_file, below) and store them in a list for later data analysis."
   ]
  },
  {
   "cell_type": "code",
   "execution_count": 78,
   "metadata": {},
   "outputs": [],
   "source": [
    "# Create a list to store Adichie's 3 stories.\n",
    "adichie_stories = [\"\"] * 3"
   ]
  },
  {
   "cell_type": "code",
   "execution_count": 79,
   "metadata": {},
   "outputs": [],
   "source": [
    "# Import, read and store the contents of a file.\n",
    "def import_file (filename):\n",
    "    try:\n",
    "        # Open file.\n",
    "        file = open(filename, mode=\"r\", encoding=\"utf-8\")\n",
    "    except:\n",
    "        # Error handling.\n",
    "        print(\"Oops\", sys.exc_info()[1], \".\", \n",
    "              \"\\nPlease confirm file path and try again.\")\n",
    "    else:\n",
    "        # Read data from file and close after reading.\n",
    "        data = file.read()\n",
    "        file.close()\n",
    "    \n",
    "    return data"
   ]
  },
  {
   "cell_type": "markdown",
   "metadata": {},
   "source": [
    "* ## Retrieving \"Ghosts\", \"The Thing Around Your Neck\" and \"Tomorrow Is Too Far\" by Chimamanda Adichie"
   ]
  },
  {
   "cell_type": "code",
   "execution_count": 80,
   "metadata": {},
   "outputs": [],
   "source": [
    "try:\n",
    "    i = 0\n",
    "    # Iteratively import Adichie's stories from the specified directory.\n",
    "    for filename in os.listdir(\"chimamanda_adichie_stories\"):\n",
    "        if filename.endswith('.txt'):\n",
    "            adichie_stories[i] = import_file(os.path.join(\"chimamanda_adichie_stories\", filename))\n",
    "        i += 1\n",
    "except:\n",
    "    pass"
   ]
  },
  {
   "cell_type": "markdown",
   "metadata": {},
   "source": [
    "## Preparing the data for analysis\n",
    "Although our data has been cleaned through the procedures that we applied earlier, we still need to prepare the data for analysis by tokenising each story (i.e. chopping the story up into words), removing punctuation marks and removing stopwords (these are words like \"the\", \"and\", etc, that do not give us much meaning and thus, must be removed before we can start to gain any meaningful insight).\n",
    "\n",
    "Notice that the preprocess_data function below does not take into account words that are uppercase. This is intentional as we do not want to omit pronouns (also considered stopwords) which are important to any literary analysis as we will see later."
   ]
  },
  {
   "cell_type": "code",
   "execution_count": 81,
   "metadata": {},
   "outputs": [],
   "source": [
    "# Tokenise and remove stopwords and punctuation marks from data.\n",
    "def preprocess_data (data):\n",
    "    # Split text (including at punctuations) into tokens.\n",
    "    tokens = []\n",
    "    tokens += wordpunct_tokenize(data)\n",
    "    \n",
    "    # Remove stopwords, punctuation marks, non-alphabetic characters (e.g. line breaks, null data, etc.), and words of length 1.\n",
    "    stop_words = stopwords.words(\"english\")\n",
    "    tokens = [word for word in tokens if word not in stop_words and word.isalpha() and len(word) > 1]\n",
    "\n",
    "    return tokens"
   ]
  },
  {
   "cell_type": "code",
   "execution_count": 82,
   "metadata": {},
   "outputs": [],
   "source": [
    "# Initialise containers to store tokens for numerical and context analysis.\n",
    "adichie_stories_tokens = [\"\"] * 3\n",
    "hall_stories_tokens = [\"\"] * 3\n",
    "\n",
    "adichie_stories_text = [\"\"] * 3\n",
    "hall_stories_text = [\"\"] * 3"
   ]
  },
  {
   "cell_type": "code",
   "execution_count": 83,
   "metadata": {},
   "outputs": [],
   "source": [
    "try:\n",
    "    for story in range(len(adichie_stories)):\n",
    "        # Prepare Adichie's and Hall's stories for data analysis.\n",
    "        adichie_stories_tokens[story] = preprocess_data(adichie_stories[story])\n",
    "        hall_stories_tokens[story] = preprocess_data(hall_stories[story])\n",
    " \n",
    "        # Tokenise and convert to NLTK friendly format for further analysis later.\n",
    "        adichie_stories_text[story] = nltk.word_tokenize(adichie_stories[story])\n",
    "        adichie_stories_text[story] = nltk.Text(adichie_stories_text[story])\n",
    "        hall_stories_text[story] = nltk.word_tokenize(hall_stories[story])\n",
    "        hall_stories_text[story] = nltk.Text(hall_stories_text[story])\n",
    "except:\n",
    "    pass"
   ]
  },
  {
   "cell_type": "markdown",
   "metadata": {},
   "source": [
    "# SECTION 1"
   ]
  },
  {
   "cell_type": "markdown",
   "metadata": {},
   "source": [
    "## Analysing the data\n",
    "Having preprocessed our data, we may begin analysing it.\n",
    "Firstly, let us uncover the top 30 words from Adichie's three stories combined and Hall's three stories combined to see what insight we can gain from each author's writing."
   ]
  },
  {
   "cell_type": "code",
   "execution_count": 84,
   "metadata": {},
   "outputs": [],
   "source": [
    "# Combine all three of Adichie's short stories.\n",
    "all_adichie_stories = []\n",
    "for story in adichie_stories_tokens:\n",
    "    all_adichie_stories += story\n",
    "\n",
    "# Combine all three of Hall's short stories.\n",
    "all_hall_stories = []\n",
    "for story in hall_stories_tokens:\n",
    "    all_hall_stories += story"
   ]
  },
  {
   "cell_type": "code",
   "execution_count": 85,
   "metadata": {},
   "outputs": [],
   "source": [
    "def plot_line_graph(stories, wordCount, storyTitle=\"\"):\n",
    "    # Get frequency distribution of words\n",
    "    freqDist = nltk.FreqDist(stories)\n",
    "    \n",
    "    # Plot frequency distribution of words\n",
    "    plt.figure(figsize=(20,3))\n",
    "    plt.title(storyTitle)\n",
    "    freqDist.plot(wordCount, color='green', marker='D', markerfacecolor='orange', markersize=12)"
   ]
  },
  {
   "cell_type": "code",
   "execution_count": 86,
   "metadata": {},
   "outputs": [
    {
     "data": {
      "image/png": "[encoded data removed]",
      "text/plain": [
       "<Figure size 1440x216 with 1 Axes>"
      ]
     },
     "metadata": {
      "needs_background": "light"
     },
     "output_type": "display_data"
    },
    {
     "data": {
      "image/png": "[encoded data removed]",
      "text/plain": [
       "<Figure size 1440x216 with 1 Axes>"
      ]
     },
     "metadata": {
      "needs_background": "light"
     },
     "output_type": "display_data"
    }
   ],
   "source": [
    "# Plot a line graph showcasing the top 30 words used by each author in their works.\n",
    "plot_line_graph(all_adichie_stories, 30, \"Chimamanda Adichie's works\")\n",
    "plot_line_graph(all_hall_stories, 30, \"Sarah Hall's works\")"
   ]
  },
  {
   "cell_type": "markdown",
   "metadata": {},
   "source": [
    "## FIRST INSIGHT: A UNIQUE POINT OF VIEW IS PREFERABLE WHEN CREATING A SHORT STORY MASTERPIECE\n",
    "Often times, several short story authors narrate from a first person point of view, creating a perception that short stories are only successful when written from a first person point of view. While some of Adichie's stories in her short story collection are narrated from a first person perspective, not all narrate from this point of view. In fact, contrary to this perception, we can certainly view a pattern that cuts across these three works of Adichie and Hall: the use of the third person point of view, \"She\" and \"He\".\n",
    "Considering that two of Hall's works chosen for this analysis won the BBC National Short Story award, this could be an indication that perhaps: \n",
    "\n",
    "### A short story is more likely to be considered a masterpiece when narrated from a point of view that is different from the norm for stories in that genre.\n",
    "\n",
    "This opinion is supported by Adichie's unconventional use of the second point of view in her story, \"The Thing Around Your Neck\" even as the protagonist is female and the story is told through her lens."
   ]
  },
  {
   "cell_type": "markdown",
   "metadata": {},
   "source": [
    "### Observation:\n",
    "It is interesting to observe that while both Adichie's and Hall's stories are female-focused as expressed in their synopses, they all seem to have an abundance of \"He\" pronouns, almost as much as \"She\" pronouns.\n",
    "To uncover exactly how many times the pronouns \"He\" and \"She\" appear in Hall's and Adichie's works, let us carry out a word count.\n",
    "\n",
    "Note: We will add the count of the pronoun \"You\" in Adichie's work to the count of \"She\" (since the protagonist is female) to get an accurate representation."
   ]
  },
  {
   "cell_type": "code",
   "execution_count": 87,
   "metadata": {},
   "outputs": [
    {
     "name": "stdout",
     "output_type": "stream",
     "text": [
      "In Adichie's stories, 'She' appears 112 times, while 'He' appears 71 times. Thus, 'She' appears 41 more times than 'He'. \n",
      "\n",
      "In Hall's stories, 'She' appears 230 times, while 'He' appears 199 times. Thus, 'She' appears 31 more times than 'He'.\n"
     ]
    }
   ],
   "source": [
    "# Get count of She, He and You in Adichie's stories.\n",
    "she_count_adichie = all_adichie_stories.count(\"She\")\n",
    "he_count_adichie = all_adichie_stories.count(\"He\")\n",
    "you_count_adichie = all_adichie_stories.count(\"You\")\n",
    "\n",
    "# Get count of She and He in Hall's stories.\n",
    "she_count_hall = all_hall_stories.count(\"She\")\n",
    "he_count_hall = all_hall_stories.count(\"He\")\n",
    "\n",
    "print(\"In Adichie's stories, 'She' appears\", she_count_adichie + you_count_adichie, \"times, while 'He' appears\", he_count_adichie, \"times. Thus, 'She' appears\", she_count_adichie + you_count_adichie - he_count_adichie, \"more times than 'He'. \\n\")\n",
    "print(\"In Hall's stories, 'She' appears\", she_count_hall, \"times, while 'He' appears\", he_count_hall, \"times. Thus, 'She' appears\", she_count_hall - he_count_hall, \"more times than 'He'.\")"
   ]
  },
  {
   "cell_type": "markdown",
   "metadata": {},
   "source": [
    "The count of the words above certainly confirm that there are almost as many counts of 'He' as there are of 'She'. \n",
    "To be precise, 'She' appears only 41 and 31 times more than 'He' in Adichie's and Hall's works respectively.\n",
    "\n",
    "This observation may indicate the authors' efforts to provide a balanced narrative in as much as the stories are female-focused or \n",
    "it may simply be reflective of the characters'--and by extension, the authors'--society, where stories supposedly focused on females still revolve around the men in their (i.e. these females') lives."
   ]
  },
  {
   "cell_type": "markdown",
   "metadata": {},
   "source": [
    "### Formatting text to lowercase and removing pronouns\n",
    "While we gained our first insight and observation by permitting capitalised words, particularly pronouns, we would most likely gain even more insight if we strip our stories of these words before further examination.\n",
    "\n",
    "Note that in addition to the list of stopwords provided in the NLTK library, we will also check words against a more complete list as compiled by Zoheb Abai (https://gist.github.com/sebleier/554280#gistcomment-3431590) and provided at this link: https://gist.githubusercontent.com/ZohebAbai/513218c3468130eacff6481f424e4e64/raw/b70776f341a148293ff277afa0d0302c8c38f7e2/gist_stopwords.txt."
   ]
  },
  {
   "cell_type": "code",
   "execution_count": 88,
   "metadata": {},
   "outputs": [],
   "source": [
    "# Open and store contents of stopwords file.\n",
    "gist_file = open(\"gist_stopwords.txt\", \"r\")\n",
    "\n",
    "try:\n",
    "    content = gist_file.read()\n",
    "    # Format contents of file.\n",
    "    more_stop_words = content.split(\",\")\n",
    "    more_stop_words= [i.replace('\"',\"\").strip() for i in more_stop_words]\n",
    "finally:\n",
    "    # Close file.\n",
    "    gist_file.close()"
   ]
  },
  {
   "cell_type": "code",
   "execution_count": 89,
   "metadata": {},
   "outputs": [],
   "source": [
    "stop_words = stopwords.words(\"english\")\n",
    "\n",
    "# Make all words lowercase.\n",
    "cleaned_adichie_stories = [word.lower() for word in all_adichie_stories]\n",
    "cleaned_hall_stories = [word.lower() for word in all_hall_stories]\n",
    "\n",
    "# Remove all remaining stopwords, including pronouns, using NLTK stopwords and the additional stopwords list.\n",
    "cleaned_adichie_stories = [word for word in cleaned_adichie_stories if word not in stop_words and word not in more_stop_words and word.isalpha() and len(word) > 2]\n",
    "cleaned_hall_stories = [word for word in cleaned_hall_stories if word not in stop_words and word not in more_stop_words and word.isalpha() and len(word) > 2]"
   ]
  },
  {
   "cell_type": "markdown",
   "metadata": {},
   "source": [
    "Having completely cleaned our data, we may now proceed to make further analysis.\n",
    "\n",
    "Firstly, let us plot the line graph again for both authors' works."
   ]
  },
  {
   "cell_type": "code",
   "execution_count": 90,
   "metadata": {},
   "outputs": [
    {
     "data": {
      "image/png": "[encoded data removed]",
      "text/plain": [
       "<Figure size 1440x216 with 1 Axes>"
      ]
     },
     "metadata": {
      "needs_background": "light"
     },
     "output_type": "display_data"
    },
    {
     "data": {
      "image/png": "[encoded data removed]",
      "text/plain": [
       "<Figure size 1440x216 with 1 Axes>"
      ]
     },
     "metadata": {
      "needs_background": "light"
     },
     "output_type": "display_data"
    }
   ],
   "source": [
    "# Plot a line graph showcasing the top 50 words used by each author in their works.\n",
    "plot_line_graph(cleaned_adichie_stories, 50, \"Chimamanda Adichie's works\")\n",
    "plot_line_graph(cleaned_hall_stories, 50, \"Sarah Hall's works\")"
   ]
  },
  {
   "cell_type": "markdown",
   "metadata": {},
   "source": [
    "## SECOND INSIGHT: BUILD A WORLD AROUND YOUR MAIN CHARACTER\n",
    "From the graph of word frequencies above, it is easy to spot an abundance of names or reference to people.\n",
    "In Adichie's works, these names or references include Nonso, Ikenna, Grandmama, Mother, Father, Dozie, and Ebere.\n",
    "In Hall's works, these names or references include Dilly, Mummy, Zach, Joe, Becca, Edward, Father, Muturi, Cleo, Charlie, Wife.\n",
    "Both authors' works also feature words such as house and people.\n",
    "Hence, these frequencies of names and references to names imply that: \n",
    "\n",
    "### Our main character is not an island, they need to be connected to other people to move the story and thus, building these people is just as important as building the main character.\n",
    "\n",
    "Now, the question of what kind of characters to build around your main character seem to differ for both authors.\n",
    "This difference seems to be where Adichie's and Hall's story-telling diverge to become a reflection of the individual authors' cultures and societies.\n",
    "As the names in Adichie's works seem mostly related to family (as seen from the frequencies of such words), we will use the Text module in the NLTK library to uncover every instance of the word \"Family\" in both Adichie's and Hall's works and the context in which it is used."
   ]
  },
  {
   "cell_type": "code",
   "execution_count": 91,
   "metadata": {},
   "outputs": [
    {
     "name": "stdout",
     "output_type": "stream",
     "text": [
      "ADICHIE'S USE OF THE WORD, 'Family'\n",
      "\n",
      "Displaying 3 of 3 matches:\n",
      "t in Nigeria to see your father ’ s family , especially Grandmama . You rememb\n",
      "si name now , who would protect the family lineage . The neighbors came over w\n",
      " neck . He looked as if he were not family , as if he were one of the guests w\n",
      "\n",
      "\n",
      "Displaying 5 of 5 matches:\n",
      "” I asked . I was quite shaken . My family and I saw him on the day he died , \n",
      "ince ? ” I asked . “ Yes . My whole family was in Orlu when they bombed it . N\n",
      "en we took her to the Staff Club on Family Day , because , he said , she was t\n",
      "th one ’ s eyes . “ What about your family ? ” I asked . “ I never remarried. \n",
      "ity of sand thrown on broken men by family members suspended between disbelief\n",
      "\n",
      "\n",
      "Displaying 4 of 4 matches:\n",
      "ho had put in the names of all your family members for the American visa lotte\n",
      "d hide or should reveal only to the family members who wished them well . You \n",
      " he chanted . If you sell me and my family , you can not buy even one tire on \n",
      "ticket , to go with you to see your family . You said no , you needed to go al\n",
      "\n",
      "\n"
     ]
    }
   ],
   "source": [
    "print(\"ADICHIE'S USE OF THE WORD, 'Family'\\n\")\n",
    "for story in adichie_stories_text:\n",
    "    # Convert tokens to NLTK friendly text format.\n",
    "    story = Text(story)\n",
    "    # Display every instance of the word and the context in which it is used.\n",
    "    story.concordance(\"family\")\n",
    "    print(\"\\n\")"
   ]
  },
  {
   "cell_type": "markdown",
   "metadata": {},
   "source": [
    "### Family (nuclear and extended) remains a relatable and near indispensable element in African story-telling \n",
    "As seen in the above articularly for Adichie, the word \"family\" is mentioned several times in all three works.\n",
    "Where family is mentioned, we get a sense of the importance of being close to family and preserving the family lineage in an African society. For instance, there are many mentions of seeing family, going with family or being with family.\n",
    "Furthermore, with words such as \"Grandmama\" and phrases such as \"whole family\" and \"all your family members\", there is the sense that family in this society automatically includes the extended family. \n",
    "The sacredness of family is also reflected in references to \"Family Day\" and the need to \"protect the family lineage\".\n",
    "In fact, the family is so intertwined with the individual such that an individual is nothing without a family (see: line 3 of 5 matches: \"What about your family?\")."
   ]
  },
  {
   "cell_type": "code",
   "execution_count": 92,
   "metadata": {},
   "outputs": [
    {
     "name": "stdout",
     "output_type": "stream",
     "text": [
      "HALL'S USE OF THE WORD, 'Family'\n",
      "\n",
      "Displaying 3 of 3 matches:\n",
      "ut boundaries and identity within a family , he ’ d used a fishing-net metapho\n",
      "orst things to have happened to the family , her attachment , her over-attachm\n",
      " , wheaty , that safe , wonderful , family taste . Merrick had been wrong . Sh\n",
      "\n",
      "\n",
      "Displaying 1 of 1 matches:\n",
      "the burnout with the band , and the family arguments , she missed England – sh\n",
      "\n",
      "\n",
      "no matches\n",
      "\n",
      "\n"
     ]
    }
   ],
   "source": [
    "print(\"HALL'S USE OF THE WORD, 'Family'\\n\")\n",
    "for story in hall_stories_text:\n",
    "    # Convert tokens to NLTK friendly text format.\n",
    "    story = Text(story)\n",
    "    # Display every instance of the word and the context in which it is used.\n",
    "    story.concordance(\"family\")\n",
    "    print(\"\\n\")"
   ]
  },
  {
   "cell_type": "markdown",
   "metadata": {},
   "source": [
    "On the other hand, in Sarah Hall's works, we see a fondness of family (with phrases like \"safe, wonderful, family taste\" and mentions of missing \"family arguments\") in two out of the three works, however these mentions (only 4 matches) differ from Adichie's references to family in two main ways: \n",
    "1. Some of the phrases seem to reveal that the characters are currently apart from their families and there is no pressure to be with family.\n",
    "2. There is no possessiveness when referring to family; that is, while Adichie uses \"my family\", \"your family\", etc, Hall uses the more casual phrases, \"the family\" and \"a family\". In other words, the family in the character's--and perhaps, by extension, in Hall's--society does not necessarily define the individual and there is no pressure to continue some family lineage. \n",
    "That stated, where characters are defined by family, that family seems to mean only a few central family figures like the mother as there is mention of \"Mummy\" 66 times, but only in one work (see 25 instances of \"Mummy\" printed below). There is also mention of \"Wife\" so the idea of family is certainly restricted to the nuclear and not extended.\n",
    "\n",
    "In addition and going back to reconsider the mentions of \"Mummy\" in Hall's work (as printed below), the context in which \"Mummy\" is used indicates that the protagonist and her world view is strongly defined by her mother's views and perspectives. For instance, The protagonist usually confirms right or wrong by thinking about what \"Mummy\" would say or do (see 25 out of 66 instances below). This discovery, combined with what we have already seen in Adichie's works concerning the importance of family and the high frequency of the word \"mother\", certainly reveals that, more often than not:\n",
    "\n",
    "### No matter the society, mothers play an important role in shaping a character and that character's world view.\n"
   ]
  },
  {
   "cell_type": "code",
   "execution_count": 93,
   "metadata": {},
   "outputs": [
    {
     "name": "stdout",
     "output_type": "stream",
     "text": [
      "HALL'S USE OF THE WORD, 'Mummy'\n",
      "\n",
      "Displaying 25 of 66 matches:\n",
      "top ; she was late getting home with Mummy ’ s shopping . But the scene was too\n",
      ". She could hear an internal voice , Mummy ’ s voice : disgraceful , who are th\n",
      "Edward had seen and reported back to Mummy , who was outraged and still talking\n",
      "otchy smell . Silly girl , she heard Mummy say . Don ’ t be so squeamish . Mumm\n",
      "ummy say . Don ’ t be so squeamish . Mummy was right , of course . She usually \n",
      "ar up . Dilly sometimes thought that Mummy was like a truffle pig , rooting aro\n",
      " goodness ’ sake . Engage ! By now , Mummy would have swept the degrading parod\n",
      "t she was probably very late now and Mummy would be getting cross . Mummy had o\n",
      "w and Mummy would be getting cross . Mummy had only sent Dilly out for a few it\n",
      "e jam . Dilly couldn ’ t remember if Mummy had asked for a particular kind , an\n",
      "g her mind . Father Muturi , who was Mummy ’ s favourite priest at St Eligius ,\n",
      "k , and hadn ’ t wanted to sing when Mummy had asked him to . When Dilly had su\n",
      "eir French evening class this week . Mummy was making scones for the tea party \n",
      "baby . And because of Peter , though Mummy maintained Peter had done nothing wr\n",
      "t be spoken about , unless raised by Mummy , and then certain agreements were m\n",
      "s , be witty but still seem humble – Mummy and Cleo were masters at that kind o\n",
      "he water ’ s curtain . It was one of Mummy ’ s peeves , all the junk being toss\n",
      "as it . An egg for breakfast was all Mummy had allowed , no toast because Dilly\n",
      "n a lot of frustration in the room . Mummy and the lady , her name was possibly\n",
      " again . That was not un­common with Mummy ’ s acquaintances . One of the cakes\n",
      "Dilly . Soon there would be scones , Mummy ’ s speciality : warm , soft , comfo\n",
      "ntention for a Nobel , people said . Mummy maintained Charlie-bo was from a sma\n",
      " the bottom of the hill . Recently , Mummy had arranged a session with Merrick \n",
      " It was strange seeing him away from Mummy ’ s parties , where he was usually d\n",
      "able and was glad when it was over . Mummy hadn ’ t asked her about the session\n",
      "\n",
      "\n",
      "no matches\n",
      "\n",
      "\n",
      "no matches\n",
      "\n",
      "\n"
     ]
    }
   ],
   "source": [
    "print(\"HALL'S USE OF THE WORD, 'Mummy'\\n\")\n",
    "for story in hall_stories_text:\n",
    "    # Convert tokens to NLTK friendly text format.\n",
    "    story = Text(story)\n",
    "    # Display every instance of the word and the context in which it is used.\n",
    "    story.concordance(\"mummy\")\n",
    "    print(\"\\n\")"
   ]
  },
  {
   "cell_type": "markdown",
   "metadata": {},
   "source": [
    "It is important to note that I did not mention the frequency of the word, \"father\" in Hall's works being related to family as I did with \"Mummy\". This is because the father mentioned in Hall's works is actually a priest, not a regular father.\n",
    "To confirm this statement, we can derive the common contexts of the word, \"father\", (i.e. view which words are often used with \"father\")."
   ]
  },
  {
   "cell_type": "code",
   "execution_count": 94,
   "metadata": {},
   "outputs": [
    {
     "name": "stdout",
     "output_type": "stream",
     "text": [
      "those_muturi ._muturi saw_muturi or_muturi and_muturi their_with\n",
      "their_had ?_muturi ,_muturi of_muturi\n",
      "('The following word(s) were not found:', 'father')\n",
      "('The following word(s) were not found:', 'father')\n"
     ]
    }
   ],
   "source": [
    "for story in hall_stories_text:\n",
    "    story = Text(story)\n",
    "    story.common_contexts([\"father\"])"
   ]
  },
  {
   "cell_type": "markdown",
   "metadata": {},
   "source": [
    "The underscore in the output above indicates where the word, \"father\" normally appears.\n",
    "As we can observe, \"Muturi\" comes right after \"father\". Hence, the father mentioned in one of Hall's works (as the others have no such mentions) is called \"Father Muturi\"."
   ]
  },
  {
   "cell_type": "markdown",
   "metadata": {},
   "source": [
    "## Applying Three Approaches of Stemming and Lemmatization to variations of a word to derive its root\n",
    "\n",
    "From the line graph as earlier shown, we can observe the high frequency of the words, \"said\", \"asked\", \"told\", \"say\", and \"called\" in Adichie's works and also the high frequency of the words, \"said\" and \"say\" in Hall's works. \n",
    "Particularly in Hall's works, \"said\" appears as the third most frequent word while \"say\" appears as the 28th most frequent word. Now, as humans, we know that \"said\" and \"say\" mean exactly the same thing so in fact, there is a much higher frequency of the word, \"say\" than our graph is displaying, but how do we manipulate our data to consider all variations of a word and more accurately reflect its frequency?\n",
    "\n",
    "To tackle this issue, we will explore different approaches using the words, \"said\" and \"say\" in Hall's works (and add the word \"says\" for better comparison) as test data, before formulating a final approach to be used on the whole dataset.\n"
   ]
  },
  {
   "cell_type": "code",
   "execution_count": 95,
   "metadata": {},
   "outputs": [],
   "source": [
    "test_data = [\"said\", \"say\", \"says\"]"
   ]
  },
  {
   "cell_type": "markdown",
   "metadata": {},
   "source": [
    "Firstly, we will consider Porter's Stemmer which is the most often used stemmer to derive a root stem, though it is more computationally expensive:"
   ]
  },
  {
   "cell_type": "code",
   "execution_count": 96,
   "metadata": {},
   "outputs": [
    {
     "name": "stdout",
     "output_type": "stream",
     "text": [
      "['said', 'say', 'say']\n"
     ]
    }
   ],
   "source": [
    "porter_stemmer = PorterStemmer()\n",
    "stemmed_with_porter = [porter_stemmer.stem(word) for word in test_data]\n",
    "print(stemmed_with_porter)"
   ]
  },
  {
   "cell_type": "markdown",
   "metadata": {},
   "source": [
    "As we can see from the above output, while Porter Stemmer stems the word \"says\" to the root stem, \"say\", it fails to recognise that \"said\" and \"say\" are variations of the same word. Hence, we must consider a different approach to solving our problem.\n",
    "\n",
    "Our second approach is to consider Snowball Stemmer:\n",
    "Note: For some context, although Snowball Stemmer is beyond the scope of the course, it is actually also called Porter 2 as it is an improvement over Porter Stemmer in terms of both stemming and computational time taken. Also note that when calling Snowball Stemmer, we must pass the language that we want to use. "
   ]
  },
  {
   "cell_type": "code",
   "execution_count": 97,
   "metadata": {},
   "outputs": [
    {
     "name": "stdout",
     "output_type": "stream",
     "text": [
      "['said', 'say', 'say']\n"
     ]
    }
   ],
   "source": [
    "snowball_stemmer = SnowballStemmer(\"english\")\n",
    "stemmed_with_snowball = [snowball_stemmer.stem(word) for word in test_data]\n",
    "print(stemmed_with_snowball)"
   ]
  },
  {
   "cell_type": "markdown",
   "metadata": {},
   "source": [
    "As we can see from the above output, though Snowball Stemmer is considered to be an improvement over Porter Stemmer and it also stems the word \"says\" to \"say\", it still does not solve our problem of recognising the word, \"said\" as a variations of the word, \"say\". Hence, we must still consider a different approach.\n",
    "\n",
    "Our third approach is to consider the Lancaster Stemmer which is a lot more aggressive at stemming than the other two stemmers and it is also the fastest algorithm of the three stemmers."
   ]
  },
  {
   "cell_type": "code",
   "execution_count": 98,
   "metadata": {},
   "outputs": [
    {
     "name": "stdout",
     "output_type": "stream",
     "text": [
      "['said', 'say', 'say']\n"
     ]
    }
   ],
   "source": [
    "lancaster_stemmer = LancasterStemmer()\n",
    "stemmed_with_lanc = [lancaster_stemmer.stem(word) for word in test_data]\n",
    "print(stemmed_with_lanc)"
   ]
  },
  {
   "cell_type": "markdown",
   "metadata": {},
   "source": [
    "As seen from the above, in as much as Lancaster Stemmer is a very aggressive stemmer, it still does not stem the word, \"said\" to derive the root stem, \"say\".\n",
    "\n",
    "At this point, it is important to reconsider the problem. Perhaps the word \"said\" is too different in spelling from the other two words for the stemmers to recognise it as a variation of \"say\" and therefore, to stem it properly. Perhaps what we need to do instead to solve our problem is to derive, not the stem of the words, but the meaning of the words.\n",
    "Luckily, this is exactly what a lemmatizer does and through the wordnet module in the NLTK library, we can use a lemmatizer to derive a lemma (or root word) of the words."
   ]
  },
  {
   "cell_type": "code",
   "execution_count": 99,
   "metadata": {},
   "outputs": [
    {
     "name": "stdout",
     "output_type": "stream",
     "text": [
      "['said', 'say', 'say']\n"
     ]
    }
   ],
   "source": [
    "lemmatizer = WordNetLemmatizer()\n",
    "lemmatized_test_data = [lemmatizer.lemmatize(word) for word in test_data]\n",
    "print(lemmatized_test_data)"
   ]
  },
  {
   "cell_type": "markdown",
   "metadata": {},
   "source": [
    "Interestingly, the lemmatizer fails to solve our problem. However, this is likely because the default part of speech used by the lemmatizer to lemmatize words is the noun. Hence, we need to indicate the part of speech for each of our words (in this case, \"v\" for verb)."
   ]
  },
  {
   "cell_type": "code",
   "execution_count": 100,
   "metadata": {},
   "outputs": [
    {
     "name": "stdout",
     "output_type": "stream",
     "text": [
      "['say', 'say', 'say']\n"
     ]
    }
   ],
   "source": [
    "lemmatized_test_data = [lemmatizer.lemmatize(word, \"v\") for word in test_data]\n",
    "print(lemmatized_test_data)"
   ]
  },
  {
   "cell_type": "markdown",
   "metadata": {},
   "source": [
    "Finally, the lemmatizer solves our problem, but only when we explicitly indicate the part of speech of each word; this means that we have to pass the part of speech of each word in our dataset to the lemmatizer to receive accurate results. \n",
    "\n",
    "Luckily, we have NLTK Part of Speech (POS) tagging which is highly effective in discerning what part of speech applies to a word in a given context, even if that word is spelt the same. \n",
    "For instance, in the example below, \"play\" in the first list is correctly tagged as a noun (i.e. NN) while \"play\" in the second list is correctly tagged as a verb (i.e. VBP).  "
   ]
  },
  {
   "cell_type": "code",
   "execution_count": 101,
   "metadata": {},
   "outputs": [
    {
     "name": "stdout",
     "output_type": "stream",
     "text": [
      "[('A', 'DT'), ('play', 'NN')]\n",
      "[('I', 'PRP'), ('play', 'VBP'), ('the', 'DT'), ('drums', 'NNS')]\n"
     ]
    }
   ],
   "source": [
    "nltk_noun = [\"A\", \"play\"]\n",
    "nltk_verb = [\"I\", \"play\", \"the\", \"drums\"]\n",
    "print(nltk.pos_tag(nltk_noun))\n",
    "print(nltk.pos_tag(nltk_verb))"
   ]
  },
  {
   "cell_type": "markdown",
   "metadata": {},
   "source": [
    "## Using NLTK Part of Speech (POS) Tagging and Wordnet Lemmatizer for more accurate analysis of similar words\n",
    "That stated, we cannot directly pass the NLTK parts of speech tags to the lemmatizer as it only recognises tags defined by its wordnet module. Hence, for a robust solution to this problem, we can carry out the following: \n",
    "- Use NLTK POS tagging to tag the part of speech of each word/token in our dataset;\n",
    "- Convert all NLTK tagged words to wordnet parts of speech tags;\n",
    "- Apply the results (tuples of word and wordnet tag) to the lemmatizer to lemmatize.  "
   ]
  },
  {
   "cell_type": "code",
   "execution_count": 102,
   "metadata": {},
   "outputs": [],
   "source": [
    "# Source: Gaurav Gupta, https://medium.com/@gaurav5430/using-nltk-for-lemmatizing-sentences-c1bfff963258\n",
    "\n",
    "# Function to convert NLTK POS tag to wordnet tag\n",
    "def nltk_tag_to_wordnet_tag(nltk_tag):\n",
    "    if nltk_tag.startswith('J'):\n",
    "        return wordnet.ADJ\n",
    "    elif nltk_tag.startswith('V'):\n",
    "        return wordnet.VERB\n",
    "    elif nltk_tag.startswith('N'):\n",
    "        return wordnet.NOUN\n",
    "    elif nltk_tag.startswith('R'):\n",
    "        return wordnet.ADV\n",
    "    else:          \n",
    "        return None"
   ]
  },
  {
   "cell_type": "code",
   "execution_count": 103,
   "metadata": {},
   "outputs": [],
   "source": [
    "# Code adapted from Gaurav Gupta, https://medium.com/@gaurav5430/using-nltk-for-lemmatizing-sentences-c1bfff963258\n",
    "\n",
    "# Lemmatize words in the provided list of words.\n",
    "def lemmatize_words(words_list):\n",
    "    # Tag each word in the provided list of words.\n",
    "    nltk_tagged = nltk.pos_tag(words_list)\n",
    "    # Convert NLTK tags to wordnet tags and create tuples of word and wordnet tag.\n",
    "    wordnet_tagged = map(lambda x: (x[0], nltk_tag_to_wordnet_tag(x[1])), nltk_tagged)\n",
    "    lemmatized_words_list = []\n",
    "    for word, tag in wordnet_tagged:\n",
    "        if tag is None:\n",
    "            # If there is no available tag, append the word as it is.\n",
    "            lemmatized_words_list.append(word)\n",
    "        else:        \n",
    "            # Otherwise, use the tag to lemmatize the word.\n",
    "            lemmatized_words_list.append(lemmatizer.lemmatize(word, tag))\n",
    "    return lemmatized_words_list"
   ]
  },
  {
   "cell_type": "markdown",
   "metadata": {},
   "source": [
    "Having established functions that would enable us to complete the steps mentioned earlier and allows reusability, we may now apply these functions to lemmatize all the words in our datasets and then plot the output for a more accurate representation of the word frequencies."
   ]
  },
  {
   "cell_type": "code",
   "execution_count": 104,
   "metadata": {},
   "outputs": [
    {
     "data": {
      "image/png": "[encoded data removed]",
      "text/plain": [
       "<Figure size 1440x216 with 1 Axes>"
      ]
     },
     "metadata": {
      "needs_background": "light"
     },
     "output_type": "display_data"
    },
    {
     "data": {
      "image/png": "[encoded data removed]",
      "text/plain": [
       "<Figure size 1440x216 with 1 Axes>"
      ]
     },
     "metadata": {
      "needs_background": "light"
     },
     "output_type": "display_data"
    }
   ],
   "source": [
    "# Lemmatize all the words in Adichie's and Hall's works.\n",
    "lemmatized_adichie_stories = lemmatize_words(cleaned_adichie_stories)\n",
    "lemmatized_hall_stories = lemmatize_words(cleaned_hall_stories)\n",
    "\n",
    "# Plot a line graph showcasing the top 50 words used by each author in their works.\n",
    "plot_line_graph(lemmatized_adichie_stories, 50, \"Chimamanda Adichie's works\")\n",
    "plot_line_graph(lemmatized_hall_stories, 50, \"Sarah Hall's works\")"
   ]
  },
  {
   "cell_type": "markdown",
   "metadata": {},
   "source": [
    "## THIRD INSIGHT: DIALOGUE IS IMPORTANT IN THE CREATION OF A SHORT STORY MASTERPIECE\n",
    "Upon exploring the different stemmers available in the NLTK library and finally choosing to combine the NLTK Parts of Speech (POS) tagging with Lemmatization to derive root words, we can more obviously notice from the above graph that \"say\" is the Number 1 and Number 2 most commonly used word in Adichie's and Hall's stories respectively. Other words like \"ask\" and \"tell\" are also in the top 10 most common words used in Adichie's works. \n",
    "With this observation, we can now clearly appreciate our third insight concerning how authors can produce a short story masterpiece:\n",
    "It is not enough to build a world around the main character, we must use dialogue to inform readers about this world, specifically about the characters, their personalities, actions, mindsets and how these affect our main character and perhaps ultimately leads to some end goal. Hence, in a more general sense:\n",
    "\n",
    "### Characters need to interact with one another to clue readers into what is going on and drive the story forward. "
   ]
  },
  {
   "cell_type": "markdown",
   "metadata": {},
   "source": [
    "## FOURTH INSIGHT: WHAT IS LEFT UNSAID IS SOMETIMES MORE POWERFUL THAN WHAT IS SAID\n",
    "From the graph, we can see an abundance of the words, \"see\", \"eye\", \"look\", \"feel\", \"felt\" and \"think\". Indeed, as readers, we learn more about a character, not from what is being said, but rather from what is left unsaid--from their movements, particularly their gaze (i.e. as seen through the frequency of words such as \"eye\", \"see\", \"look\") and from how they really feel and think (i.e. as seen through the frequency of words such as \"feel\", \"felt\" and \"think\"). These movements, thoughts and feelings are most times only divulged to the reader to provide more insight into our character's psyche and thus, draw readers in and keep them engaged. Hence, Adichie and Hall show us that in writing a short story masterpiece,\n",
    "### How your characters feel and move are just as important as what they say"
   ]
  },
  {
   "cell_type": "markdown",
   "metadata": {},
   "source": [
    "## Limitations of the POS Tagging and Lemmatizer technique used\n",
    "As an aside, notice that while our technique of pos tagging and lemmatizing was mostly effective, it still had its limitations. For instance, the word, \"felt\" remained unchanged in the process and appears differently from the word, \"feel\" even though they are the same."
   ]
  },
  {
   "cell_type": "markdown",
   "metadata": {},
   "source": [
    "## Sentiment Analysis of Adichie's and Hall Works\n",
    "To gain our final insight, it might be beneficial to uncover what kind of stories move readers such that these stories are crowned masterpieces. Is a happy story more likely to attract critical acclaim or is a depressing one or is it a bit of both?\n",
    "Luckily, we can discover which one using sentiment analysis to get the polarity scores of each work (i.e. whether a work is negative, positive or neutral).\n",
    "As the sentiment analyzer takes in a string, we will have to use our original list of short stories for this task. The steps that we will take are as follows:\n",
    "* Tokenise each author's story by sentence: This will provide more accuracy by analysing each of the sentences and scoring each in terms of how positive, negative and neutral it is. A compound score is also provided that may have either negative or positive values indicating the overall sentiment of the sentence.\n",
    "* Aggregate the data to obtain a cumulative negative, positive, neutral and compound score for each of the stories: As we do not want to output hundreds or thousands of lines, we will add up the scores to determine the overall sentiment of each story.\n",
    "* Visualise the data: As data is better understood when visualised, we will use a variety of techniques to visualise our data and then choose a final approach.\n",
    "\n",
    "To accomplish the above steps, we will take an object-oriented approach to apply good practice (however, without initialising classes to avoid huge code blocks).\n",
    "The functions involved are written below with some comments for clarity concerning what the function does."
   ]
  },
  {
   "cell_type": "markdown",
   "metadata": {},
   "source": [
    "NOTE: I am using the VADER sentiment analyser instead of the TextBlob sentiment analysis.\n",
    "This is because as I discovered in my attempts to obtain the polarity scores of the texts, VADER works better as it is more accurate. From further research, I then confirmed that TextBlob is actually more suited to formal language. Hence, it is better to use VADER in this case."
   ]
  },
  {
   "cell_type": "code",
   "execution_count": 105,
   "metadata": {},
   "outputs": [],
   "source": [
    "# Get the sentiment analyzer object.\n",
    "sentimentAnalyzer = SentimentIntensityAnalyzer()"
   ]
  },
  {
   "cell_type": "code",
   "execution_count": 106,
   "metadata": {},
   "outputs": [],
   "source": [
    "# Function to get and cummulate polarity scores of all sentences in a story.\n",
    "def get_polarity_scores(sentences):\n",
    "    cummulative_polarity_scores = dict()\n",
    "    for sentence in sentences:\n",
    "        # Get the polarity score of the sentence.\n",
    "        polarity_scores = sentimentAnalyzer.polarity_scores(sentence)\n",
    "        for polarity in polarity_scores:\n",
    "            if polarity not in cummulative_polarity_scores:\n",
    "                cummulative_polarity_scores[polarity] = polarity_scores[polarity]\n",
    "            else:\n",
    "                # Add up scores for each polarity.\n",
    "                cummulative_polarity_scores[polarity] += polarity_scores[polarity]\n",
    "    return cummulative_polarity_scores"
   ]
  },
  {
   "cell_type": "markdown",
   "metadata": {},
   "source": [
    "NOTE: The function below, set_additional_bar_params, was initially part of the plot_polarity_bar_graph function, but separated to avoid huge code blocks."
   ]
  },
  {
   "cell_type": "code",
   "execution_count": 107,
   "metadata": {},
   "outputs": [],
   "source": [
    "# Function to set additional parameters to bar charts.\n",
    "def set_additional_bar_params(polarity_map, polarity_type, polarities):\n",
    "        if polarity_map[\"compound\"] < 0:\n",
    "            # Colour compound bar red if its score is negative.\n",
    "            plt.bar(3, polarity_map[\"compound\"], color=\"#8b0000\")\n",
    "        else:\n",
    "            # Colour compound bar green if its score is positive.\n",
    "            plt.bar(3, polarity_map[\"compound\"], color=\"#089000\")\n",
    "        plt.xlabel(\"Polarities\")\n",
    "        plt.ylabel(\"Scores\")\n",
    "        plt.xticks(polarity_type, polarities)\n",
    "        plt.show()"
   ]
  },
  {
   "cell_type": "code",
   "execution_count": 108,
   "metadata": {},
   "outputs": [],
   "source": [
    "# Function to plot a bar graph displaying the cummulative polarity scores of each story.\n",
    "def plot_polarity_bar_graph(polarity_map):\n",
    "    polarities = []\n",
    "    scores = []\n",
    "    for polarity in polarity_map:\n",
    "        # Remove \"neu\" value to better compare between \"pos\" and \"neg\".\n",
    "        if polarity != \"neu\":\n",
    "            polarities.append(polarity)\n",
    "            scores.append(polarity_map[polarity])\n",
    "    # Change polarities from strings to numerical values to ensure display.\n",
    "    polarity_type = np.arange(1, len(polarities) + 1, 1)\n",
    "    \n",
    "    plt.bar(polarity_type, scores, align=\"center\", edgecolor=\"yellow\", facecolor=\"#003366\")\n",
    "    set_additional_bar_params(polarity_map, polarity_type, polarities)"
   ]
  },
  {
   "cell_type": "code",
   "execution_count": 109,
   "metadata": {},
   "outputs": [],
   "source": [
    "# Initialisation function to start the sentiment analysis and interact with other functions.\n",
    "def start_sentiment_analysis(story):\n",
    "    sentences_list = sent_tokenize(story)\n",
    "    story_polarity_scores = get_polarity_scores(sentences_list)\n",
    "    plot_polarity_bar_graph(story_polarity_scores)\n",
    "    print(\"Absolute Difference between Negative and Positive Polarity Scores: \", abs(story_polarity_scores[\"neg\"] - story_polarity_scores[\"pos\"]), \"\\n\")\n",
    "    print(\"Neutral Polarity Score: \", story_polarity_scores[\"neu\"], \"\\n\\n\")"
   ]
  },
  {
   "cell_type": "markdown",
   "metadata": {},
   "source": [
    "Having written the functions needed for the sentiment analysis, we may now call the start_sentiment_analysis function to perform the analysis.\n",
    "Note that at this point, we do not have access to the other functions that calculate the polarity scores and plot the graph, we only have access to the entry function which will then handle the other operations. This approach fulfills the encapsulation and abstraction principles of Object-Oriented Programming as we hide the other functions away and abstract the analysis process such that we only have to call one function (essentially one line of code) without the need to understand its inner workings."
   ]
  },
  {
   "cell_type": "markdown",
   "metadata": {},
   "source": [
    "That explained, let us apply our sentiment analyser to all three of Adichie's works."
   ]
  },
  {
   "cell_type": "code",
   "execution_count": 110,
   "metadata": {},
   "outputs": [
    {
     "name": "stdout",
     "output_type": "stream",
     "text": [
      "\n",
      "POLARITY SCORES OF ADICHIE'S WORKS \n",
      "\n"
     ]
    },
    {
     "data": {
      "image/png": "[encoded data removed]",
      "text/plain": [
       "<Figure size 432x288 with 1 Axes>"
      ]
     },
     "metadata": {
      "needs_background": "light"
     },
     "output_type": "display_data"
    },
    {
     "name": "stdout",
     "output_type": "stream",
     "text": [
      "Absolute Difference between Negative and Positive Polarity Scores:  6.655999999999999 \n",
      "\n",
      "Neutral Polarity Score:  128.33800000000002 \n",
      "\n",
      "\n"
     ]
    },
    {
     "data": {
      "image/png": "[encoded data removed]",
      "text/plain": [
       "<Figure size 432x288 with 1 Axes>"
      ]
     },
     "metadata": {
      "needs_background": "light"
     },
     "output_type": "display_data"
    },
    {
     "name": "stdout",
     "output_type": "stream",
     "text": [
      "Absolute Difference between Negative and Positive Polarity Scores:  3.8049999999999997 \n",
      "\n",
      "Neutral Polarity Score:  258.9369999999999 \n",
      "\n",
      "\n"
     ]
    },
    {
     "data": {
      "image/png": "[encoded data removed]",
      "text/plain": [
       "<Figure size 432x288 with 1 Axes>"
      ]
     },
     "metadata": {
      "needs_background": "light"
     },
     "output_type": "display_data"
    },
    {
     "name": "stdout",
     "output_type": "stream",
     "text": [
      "Absolute Difference between Negative and Positive Polarity Scores:  0.7990000000000066 \n",
      "\n",
      "Neutral Polarity Score:  172.93499999999997 \n",
      "\n",
      "\n"
     ]
    }
   ],
   "source": [
    "print(\"\\nPOLARITY SCORES OF ADICHIE'S WORKS \\n\")\n",
    "for story in adichie_stories:\n",
    "    start_sentiment_analysis(story)"
   ]
  },
  {
   "cell_type": "markdown",
   "metadata": {},
   "source": [
    "NOTE: The compound score indicates the overall sentiment of the story--with green being positive and red being negative."
   ]
  },
  {
   "cell_type": "markdown",
   "metadata": {},
   "source": [
    "From the above graphs, two out of three of Adichie's works are negative (or in other words, depressing). This discovery actually comes as no surprise with story titles such as \"Ghosts\" and \"The Thing Around Your Neck\" that already inform humans about the negative nature of their content.\n",
    "Notice though that the absolute difference between the negative and positive polarity scores is not much, indicating that while the stories were determined negative or positive, they were--to a large extent--almost balanced.\n",
    "\n",
    "Let us now analyse all three of Hall's works to determine their polarity scores."
   ]
  },
  {
   "cell_type": "code",
   "execution_count": 111,
   "metadata": {},
   "outputs": [
    {
     "name": "stdout",
     "output_type": "stream",
     "text": [
      "\n",
      "POLARITY SCORES OF HALL'S WORKS \n",
      "\n"
     ]
    },
    {
     "data": {
      "image/png": "[encoded data removed]",
      "text/plain": [
       "<Figure size 432x288 with 1 Axes>"
      ]
     },
     "metadata": {
      "needs_background": "light"
     },
     "output_type": "display_data"
    },
    {
     "name": "stdout",
     "output_type": "stream",
     "text": [
      "Absolute Difference between Negative and Positive Polarity Scores:  14.861999999999988 \n",
      "\n",
      "Neutral Polarity Score:  453.50399999999985 \n",
      "\n",
      "\n"
     ]
    },
    {
     "data": {
      "image/png": "[encoded data removed]",
      "text/plain": [
       "<Figure size 432x288 with 1 Axes>"
      ]
     },
     "metadata": {
      "needs_background": "light"
     },
     "output_type": "display_data"
    },
    {
     "name": "stdout",
     "output_type": "stream",
     "text": [
      "Absolute Difference between Negative and Positive Polarity Scores:  7.531999999999975 \n",
      "\n",
      "Neutral Polarity Score:  511.63399999999984 \n",
      "\n",
      "\n"
     ]
    },
    {
     "data": {
      "image/png": "[encoded data removed]",
      "text/plain": [
       "<Figure size 432x288 with 1 Axes>"
      ]
     },
     "metadata": {
      "needs_background": "light"
     },
     "output_type": "display_data"
    },
    {
     "name": "stdout",
     "output_type": "stream",
     "text": [
      "Absolute Difference between Negative and Positive Polarity Scores:  1.6570000000000107 \n",
      "\n",
      "Neutral Polarity Score:  560.3940000000001 \n",
      "\n",
      "\n"
     ]
    }
   ],
   "source": [
    "print(\"\\nPOLARITY SCORES OF HALL'S WORKS \\n\")\n",
    "for story in hall_stories:\n",
    "    start_sentiment_analysis(story)"
   ]
  },
  {
   "cell_type": "markdown",
   "metadata": {},
   "source": [
    "From the graphs above, two out of three of Hall's works have positive themes.\n",
    "\n",
    "Similar to our observation with Adichie's works, notice that--except in the first work--the absolute difference between the negative and positive polarity scores is not much, also indicating that while the stories were determined negative or positive, they were--to a large extent--almost balanced."
   ]
  },
  {
   "cell_type": "markdown",
   "metadata": {},
   "source": [
    "## FIFTH INSIGHT: POSITIVE OR NEGATIVE THEMES DO NOT MATTER, TELLING A BALANCED STORY DOES \n",
    "As already observed from the previous graphs, considering the works of both authors combined, three out of the six works are positive and the other three are negative. Hence:\n",
    "\n",
    "### It does not matter whether a short story has an overall positive or negative theme.\n",
    "\n",
    "However, it seems to be the balance in these stories, and not the theme, that make the stories masterpieces. Even with their overall negative or positive themes, these stories manage to walk a fine line between positivity and negativity, finding balance with their sentences ranging from positive to negative, and to largely neutral. Hence, when creating a short story masterpiece, write some positivity in the negativity and some negativity in the positivity. Put another way: \n",
    "\n",
    "### A character's world cannot be too happy and it cannot be too sad; it's a little bit of both."
   ]
  },
  {
   "cell_type": "markdown",
   "metadata": {},
   "source": [
    "# SECTION 2"
   ]
  },
  {
   "cell_type": "markdown",
   "metadata": {},
   "source": [
    "## Using Machine Learning to identify stories relatable to audiences of a particular region\n",
    "We have, thus far, uncovered some important elements that make a short story masterpiece, no matter the region. We have also uncovered some elements or aspects of some elements that resonate with one region more than they do with another. Hence, writers can be mindful of these distinctions when writing for a particular audience (in this case, either African or European) in order to ensure that the story created is relatable to the audience that it was written for.\n",
    "\n",
    "In the age of Artificial Intelligence, rather than spending hours, days or months on reading and analysing texts by African and European authors, we can use machine learning to easily make the distinction between stories that are more relatable to an African audience vs a European audience.\n",
    "As mentioned earlier in the introduction, this project was initially to use stories by different authors to train a machine model, however, due to considerations about ethics of use, the dataset became limited to three of Adichie's and Hall's stories.\n",
    "Although renowned, these authors, by no means, represent their entire continents nor do their works speak for the wealth of short story literature in their regions as different authors, even in the same region, have different styles of writing. Nonetheless, this project serves as a first model in a series of models and research work required to help writers better target their audience (in this case, limited to Africa and Europe, where Europe in this context includes Britain) or capture new audiences."
   ]
  },
  {
   "cell_type": "markdown",
   "metadata": {},
   "source": [
    "* To begin, we will use Naive Bayes Classifier to train our model.\n",
    "As training a machine model, especially using the Naive Bayes Classifier can take a rather long time, I created functions below to save the classifier as a file after the training process and load the classifier for subsequent use. To do so, both functions uses the Pickle module to serialise our classifier object and enable us to load the classifier a lot more quickly than the first time that it was trained."
   ]
  },
  {
   "cell_type": "code",
   "execution_count": 112,
   "metadata": {},
   "outputs": [],
   "source": [
    "# Function to save classifier as a file for faster classification later.\n",
    "def save_classifier(classifier, filename):\n",
    "    file = open(filename, 'wb')\n",
    "    pickle.dump(classifier, file, -1)\n",
    "    file.close()"
   ]
  },
  {
   "cell_type": "code",
   "execution_count": 113,
   "metadata": {},
   "outputs": [],
   "source": [
    "# Function to load the classifier when called for subsequent classifications.\n",
    "def load_classifier(filename):\n",
    "    file = open(filename, 'rb')\n",
    "    classifier = pickle.load(file)\n",
    "    file.close()\n",
    "    return classifier"
   ]
  },
  {
   "cell_type": "markdown",
   "metadata": {},
   "source": [
    "* Next, we will tokenise all three of Adichie's stories by sentence and add all those sentences to one big list. We will also do the same for Hall's stories."
   ]
  },
  {
   "cell_type": "code",
   "execution_count": 114,
   "metadata": {},
   "outputs": [],
   "source": [
    "all_adichie_sentences = []\n",
    "for i in range(len(adichie_stories)):\n",
    "    sents_in_story = sent_tokenize(adichie_stories[i])\n",
    "    all_adichie_sentences.extend(sents_in_story)\n",
    "\n",
    "all_hall_sentences = []\n",
    "for i in range(len(hall_stories)):\n",
    "    sents_in_story = sent_tokenize(hall_stories[i])\n",
    "    all_hall_sentences.extend(sents_in_story)"
   ]
  },
  {
   "cell_type": "markdown",
   "metadata": {},
   "source": [
    "* After obtaining one list per author containing all the sentences in all of that author's stories, we need to clean the lists by removing irrelevant characters and by lemmatizing. Carrying out this step will increase the accuracy of our analysis (http://michael-harmon.com/blog/NLP2.html#second-bullet).\n",
    "For some variety of technique, we will use regular expression this time to clean our data."
   ]
  },
  {
   "cell_type": "code",
   "execution_count": 115,
   "metadata": {},
   "outputs": [],
   "source": [
    "# Function to clean a list of sentences using REGEX and previously created Lemmatizer function.\n",
    "def preprocess_data_with_regex(sentencesList):\n",
    "    cleaned_sentences_list = []\n",
    "    for sentence in range(0, len(sentencesList)):\n",
    "        cleaned_sentence = re.sub(r'\\W', ' ', str(sentencesList[sentence])) # Removing special characters\n",
    "        cleaned_sentence = cleaned_sentence.lower() # Making sentence lowercase for easier manipulation\n",
    "        cleaned_sentence = re.sub(r'\\s+[a-zA-Z]\\s+', ' ', cleaned_sentence) # Removing single characters\n",
    "        cleaned_sentence = re.sub(r'\\^[a-zA-Z]\\s+', ' ', cleaned_sentence) # Removing start single chars\n",
    "        cleaned_sentence = re.sub(r'\\s+', ' ', cleaned_sentence, flags=re.I) # Removing multiple spaces\n",
    "        cleaned_sentence = cleaned_sentence.split() # Tokenising sentence\n",
    "        cleaned_sentence = lemmatize_words(cleaned_sentence) # Lemmatizing using lemmatizer & POS tagging\n",
    "        cleaned_sentence = ' '.join(cleaned_sentence) # Reconstructing sentence\n",
    "        cleaned_sentences_list.append(cleaned_sentence) # Adding cleaned sentence to new list\n",
    "        return cleaned_sentences_list"
   ]
  },
  {
   "cell_type": "code",
   "execution_count": 116,
   "metadata": {},
   "outputs": [],
   "source": [
    "stopwords_set = list(set(stop_words + more_stop_words))\n",
    "\n",
    "# Function to create a dictionary of words in each sentence.\n",
    "def extract_features(sentencesList):\n",
    "    words_in_sents_dict = dict()\n",
    "    data = ' '.join(preprocess_data_with_regex([sentencesList])) # Passing the list for preprocessing.\n",
    "    # Tokenise cleaned sentences list into words list.\n",
    "    for word in data.split():\n",
    "        # Do not include irrelevant words.\n",
    "        if (word not in stopwords_set and len(word) > 2):\n",
    "            words_in_sents_dict[word] = True\n",
    "    return words_in_sents_dict"
   ]
  },
  {
   "cell_type": "markdown",
   "metadata": {},
   "source": [
    "* Now, we are ready to extract features from each sentence to add to a growing dictionary of words in each sentence. Note that we will only extract relevant features so that our analysis is more accurate.\n",
    "In the code block below, we call the extract_features function to do this. In that function, the words are also thoroughly cleaned by calling the preprocess_data_with_regex function and still cleaning the words further before their inclusion in the dictionary.\n",
    "As seen in the code block below, once that process is completed, the sentence is tagged as \"african\" or \"european\".\n",
    " \n",
    "NOTE: Again, the use of \"african\" and \"european\" in tagging and naming the variables going forward does not imply that these features are representative of the entire European or African literature, at least not yet. For these features to be truly representative and to enhance our machine model's accuracy, we will need to include stories by various authors of those regions. This first model is simply a starting point and an invitation to further research and engineering of subsequent models building upon this one."
   ]
  },
  {
   "cell_type": "code",
   "execution_count": 117,
   "metadata": {},
   "outputs": [],
   "source": [
    "african_features = [(extract_features(sentence), 'african') for sentence in all_adichie_sentences]\n",
    "european_features = [(extract_features(sentence), 'european') for sentence in all_hall_sentences]"
   ]
  },
  {
   "cell_type": "markdown",
   "metadata": {},
   "source": [
    "* To train and test our model effectively, we need to apply good machine learning practices, one of which is to split our datasets into training and test sets--with 80% used for training and the remaining 20% used for testing (https://www.askpython.com/python/examples/split-data-training-and-testing-set).\n",
    "\n",
    "NOTE: I noticed from the list of sentences that the sentences of Hall's works were 1700+ in length while that of Adichie were 654. Hence, I set the cutoff based on the length of Adichie's sentences to make the sentences of both authors equal."
   ]
  },
  {
   "cell_type": "code",
   "execution_count": 118,
   "metadata": {},
   "outputs": [],
   "source": [
    "# As european_features' length are 1700+, use african_features length (654) \n",
    "# as cutoff for equality when analysing.\n",
    "training_cutoff = math.floor((80/100) * len(african_features))\n",
    "\n",
    "# 80% of all Adichie's sentences for more balanced training\n",
    "african_train_set = african_features[0:training_cutoff] # 523\n",
    "european_train_set = european_features[0:training_cutoff]\n",
    "train_set = african_train_set + european_train_set\n",
    "\n",
    "# 20% of all Adichie's sentences for more balanced testing\n",
    "african_test_set = african_features[training_cutoff:]\n",
    "european_test_set = european_features[training_cutoff:len(african_features)] \n",
    "test_set = african_test_set + european_test_set"
   ]
  },
  {
   "cell_type": "markdown",
   "metadata": {},
   "source": [
    "* Finally, it is time to train our data using the train set. As mentioned earlier, when the model is first trained, the classifier will be saved in a file and loaded for subsequent use. Hence, we need to add a condition that checks for the file so that we do not spend needless time if the classifier is already saved."
   ]
  },
  {
   "cell_type": "code",
   "execution_count": 119,
   "metadata": {},
   "outputs": [],
   "source": [
    "if os.path.isfile(\"literary_classifier.pickle\"):\n",
    "    # Load classifier if file is available.\n",
    "    classifier = load_classifier(\"literary_classifier.pickle\")\n",
    "else:\n",
    "    # Train classifier if file is not available.\n",
    "    classifier = NaiveBayesClassifier.train(train_set)\n",
    "    save_classifier(classifier, \"literary_classifier.pickle\")"
   ]
  },
  {
   "cell_type": "markdown",
   "metadata": {},
   "source": [
    "* We now test our classifier to find out if it works and how well.\n",
    "Firstly, let us test the classifier using the test set."
   ]
  },
  {
   "cell_type": "code",
   "execution_count": 120,
   "metadata": {},
   "outputs": [
    {
     "name": "stdout",
     "output_type": "stream",
     "text": [
      "Classifier correctly identifies test set as: african\n"
     ]
    }
   ],
   "source": [
    "# Test African test set.\n",
    "first_tag = classifier.classify(african_test_set[0][0]) \n",
    "if (first_tag == \"african\"):\n",
    "    print(\"Classifier correctly identifies test set as:\", first_tag)\n",
    "else:\n",
    "    print(\"Wrong classification!\")"
   ]
  },
  {
   "cell_type": "code",
   "execution_count": 121,
   "metadata": {},
   "outputs": [
    {
     "name": "stdout",
     "output_type": "stream",
     "text": [
      "Classifier correctly identifies test set as: european\n"
     ]
    }
   ],
   "source": [
    "# Test European test set.\n",
    "second_tag = classifier.classify(european_test_set[0][0])\n",
    "if (second_tag == \"european\"):\n",
    "    print(\"Classifier correctly identifies test set as:\", second_tag)\n",
    "else:\n",
    "    print(\"Wrong classification!\")"
   ]
  },
  {
   "cell_type": "markdown",
   "metadata": {},
   "source": [
    "So our classifier correctly classifies the test sets. Let us check exactly how accurate it was at doing so:"
   ]
  },
  {
   "cell_type": "code",
   "execution_count": 122,
   "metadata": {},
   "outputs": [
    {
     "name": "stdout",
     "output_type": "stream",
     "text": [
      "Classifier accuracy: 0.7061068702290076\n",
      "Classifier is 70.6 percent accurate\n"
     ]
    }
   ],
   "source": [
    "accuracy_score = nltk.classify.util.accuracy(classifier, test_set)\n",
    "accuracy_score_percent = round(accuracy_score * 100, 1)\n",
    "\n",
    "print ('Classifier accuracy:', accuracy_score)\n",
    "print(\"Classifier is\", accuracy_score_percent, \"percent accurate\")"
   ]
  },
  {
   "cell_type": "markdown",
   "metadata": {},
   "source": [
    "As seen from the above, our classifier has an accuracy of approximately 70.6%. While this score is average, the datasets were limited and our model would benefit from scaling up to a larger dataset."
   ]
  },
  {
   "cell_type": "markdown",
   "metadata": {},
   "source": [
    "Now the hard part would be classifying stories entirely outside of this set.\n",
    "\n",
    "* Firstly, let us see if the classifier can correctly classify a different short story of Adichie's and Hall's. Note also that because we will try to classify other works, I have created two functions to enable reusability for subsequent classification."
   ]
  },
  {
   "cell_type": "code",
   "execution_count": 123,
   "metadata": {},
   "outputs": [],
   "source": [
    "def classify_african_stories(filename):\n",
    "    test_story = import_file(\"african_test_data/\" + filename)\n",
    "    test_sents = sent_tokenize(test_story)\n",
    "    tag = classifier.classify(extract_features(test_sents))\n",
    "    if (tag == \"african\"):\n",
    "        print(\"Classifier correctly identifies testset as:\", tag)\n",
    "    else:\n",
    "        print(\"Incorrect classification for African story!\")"
   ]
  },
  {
   "cell_type": "code",
   "execution_count": 124,
   "metadata": {},
   "outputs": [
    {
     "name": "stdout",
     "output_type": "stream",
     "text": [
      "Classifier correctly identifies testset as: african\n"
     ]
    }
   ],
   "source": [
    "classify_african_stories(\"Adichie_The_Arrangers_of_Marriage.txt\")"
   ]
  },
  {
   "cell_type": "markdown",
   "metadata": {},
   "source": [
    "As seen from the above, our classifier correctly identifies a different work of Adichie's that was not part of our train or test sets. This indicates that our classifier is good at recognising the writing style of the author."
   ]
  },
  {
   "cell_type": "markdown",
   "metadata": {},
   "source": [
    "What about for Hall's work?"
   ]
  },
  {
   "cell_type": "code",
   "execution_count": 125,
   "metadata": {},
   "outputs": [],
   "source": [
    "def classify_european_stories(filename):\n",
    "    test_story = import_file(\"european_test_data/\" + filename)\n",
    "    test_sents = sent_tokenize(test_story)\n",
    "    tag = classifier.classify(extract_features(test_sents))\n",
    "    if (tag == \"european\"):\n",
    "        print(\"Classifier correctly identifies testset as:\", tag)\n",
    "    else:\n",
    "        print(\"Incorrect classification for European story!\")"
   ]
  },
  {
   "cell_type": "code",
   "execution_count": 126,
   "metadata": {},
   "outputs": [
    {
     "name": "stdout",
     "output_type": "stream",
     "text": [
      "Classifier correctly identifies testset as: european\n"
     ]
    }
   ],
   "source": [
    "classify_european_stories(\"Hall_Evie_excerpt.txt\")"
   ]
  },
  {
   "cell_type": "markdown",
   "metadata": {},
   "source": [
    "As seen from the above, again our classifier correctly identifies a different work of Hall's that was not part of our train or test sets. This indicates that our classifier is good at recognising Hall's writing style."
   ]
  },
  {
   "cell_type": "markdown",
   "metadata": {},
   "source": [
    "* Nonetheless, this section was about identifying African vs European works. For this purpose, we will use award-winning works of other authors to test our classifier."
   ]
  },
  {
   "cell_type": "code",
   "execution_count": 127,
   "metadata": {},
   "outputs": [
    {
     "name": "stdout",
     "output_type": "stream",
     "text": [
      "Classifier correctly identifies testset as: african\n",
      "Classifier correctly identifies testset as: african\n"
     ]
    }
   ],
   "source": [
    "classify_african_stories(\"afrtest1.txt\")\n",
    "classify_african_stories(\"afrtest2.txt\")"
   ]
  },
  {
   "cell_type": "code",
   "execution_count": 128,
   "metadata": {},
   "outputs": [
    {
     "name": "stdout",
     "output_type": "stream",
     "text": [
      "Incorrect classification for European story!\n",
      "Incorrect classification for European story!\n"
     ]
    }
   ],
   "source": [
    "classify_european_stories(\"eurtest1.txt\")\n",
    "classify_european_stories(\"eurtest2.txt\")"
   ]
  },
  {
   "cell_type": "markdown",
   "metadata": {},
   "source": [
    "As seen from the above, the classifier correctly identifies both test stories by African authors, but fails to do the same for stories by the European authors.\n",
    "\n",
    "To understand why, let us view the most informative features that our classifier uses to classify the stories."
   ]
  },
  {
   "cell_type": "code",
   "execution_count": 129,
   "metadata": {},
   "outputs": [
    {
     "name": "stdout",
     "output_type": "stream",
     "text": [
      "Most Informative Features\n",
      "                    tree = True           africa : europe =     21.7 : 1.0\n",
      "                     die = True           africa : europe =      9.4 : 1.0\n",
      "                     man = True           africa : europe =      7.4 : 1.0\n",
      "                     buy = True           africa : europe =      6.3 : 1.0\n",
      "                     men = True           africa : europe =      6.3 : 1.0\n",
      "                     war = True           africa : europe =      6.2 : 1.0\n",
      "                     day = True           africa : europe =      6.1 : 1.0\n",
      "                daughter = True           africa : europe =      5.7 : 1.0\n",
      "                    step = True           europe : africa =      5.7 : 1.0\n",
      "                  summer = True           africa : europe =      5.0 : 1.0\n",
      "                   write = True           africa : europe =      5.0 : 1.0\n",
      "                   plate = True           europe : africa =      5.0 : 1.0\n",
      "                    read = True           africa : europe =      5.0 : 1.0\n",
      "                   guest = True           europe : africa =      5.0 : 1.0\n",
      "              university = True           africa : europe =      5.0 : 1.0\n",
      "                    year = True           africa : europe =      5.0 : 1.0\n",
      "                   leave = True           africa : europe =      4.6 : 1.0\n",
      "                   child = True           africa : europe =      4.4 : 1.0\n",
      "                     art = True           europe : africa =      4.3 : 1.0\n",
      "            conversation = True           europe : africa =      4.3 : 1.0\n"
     ]
    }
   ],
   "source": [
    "classifier.show_most_informative_features(20)"
   ]
  },
  {
   "cell_type": "markdown",
   "metadata": {},
   "source": [
    "The listing above shows the words in the training set that appear more often for one category than another. For instance, according to the classifier, the word, \"tree\" relate to an African audience 21.7 times more often than it would to a European audience. Note that this determination is most likely because the word was not mentioned in any of Hall's stories.\n",
    "\n",
    "According to the NLTK website, \"these ratios are known as likelihood ratios, and can be useful for comparing different feature-outcome relationships\" (https://www.nltk.org/book/ch06.html).\n",
    "\n",
    "It is also now unsurprising that the two test stories by African authors were correctly categorised. This is because one of the test stories also has a theme about death (which is the second most informative feature) and the other test story has themes about men and buying. On the other hand, notice that while there are many informative features for categorising African literature, there are only four most informative features in the top twenty for identifying European literature. This is certainly not a good ratio as it means no strong european associations have been identified yet, using Hall's works, to create a strong likelihood ratio in favour of European literature.\n",
    "\n",
    "Retraining our classifier to be more accurate is beyond the scope of this project; however, to provide a starting point for how this could be done, let us add some sentences from one of the European literary works used as test data. "
   ]
  },
  {
   "cell_type": "code",
   "execution_count": 130,
   "metadata": {},
   "outputs": [],
   "source": [
    "new_sent_list = [\"On the telly, there was a woman with a pointy face talking full screen. Fuck fuck I know that bird I know I do .\"]"
   ]
  },
  {
   "cell_type": "markdown",
   "metadata": {},
   "source": [
    "Let us train this excerpt (from eurtest1.txt in european_test_data) and test our classifier with another sentence in the same story.\n",
    "\n",
    "NOTE: To save time, this training has already been carried out and saved in a new file called rev_literary_classifier.pickle"
   ]
  },
  {
   "cell_type": "code",
   "execution_count": 131,
   "metadata": {},
   "outputs": [],
   "source": [
    "# Prepare new feature for addition to trainset.\n",
    "new_eur_feature = [(extract_features(sentence), 'european') for sentence in new_sent_list]\n",
    "\n",
    "# Load or train classifier.\n",
    "if os.path.isfile(\"rev_literary_classifier.pickle\"):\n",
    "    new_classifier = load_classifier(\"rev_literary_classifier.pickle\")\n",
    "else:\n",
    "    new_classifier = NaiveBayesClassifier.train(train_set + new_eur_feature)\n",
    "    save_classifier(new_classifier, \"rev_literary_classifier.pickle\")"
   ]
  },
  {
   "cell_type": "code",
   "execution_count": 132,
   "metadata": {},
   "outputs": [
    {
     "name": "stdout",
     "output_type": "stream",
     "text": [
      "Former classifier classifies data as: african\n",
      "Retrained classifier classifies data as: european\n"
     ]
    }
   ],
   "source": [
    "# Prepare another sentence from the same story for testing.\n",
    "test_data = \"But what the fuck is that bird doing in my telly ?\"\n",
    "test_story = sent_tokenize(test_data)\n",
    "\n",
    "# Test the new data on both classifiers.\n",
    "print(\"Former classifier classifies data as:\", classifier.classify(extract_features(test_story)))\n",
    "print(\"Retrained classifier classifies data as:\",new_classifier.classify(extract_features(test_story)))"
   ]
  },
  {
   "cell_type": "markdown",
   "metadata": {},
   "source": [
    "As we can see, from simply adding to the dataset and increasing the diversity of features in our training set, our classifier gets one step closer to accurately identifying European literary works."
   ]
  },
  {
   "cell_type": "markdown",
   "metadata": {},
   "source": [
    "# Conclusion\n",
    "Using various techniques of Natural Language Processing, including sentiment analysis, we have uncovered five elements that are important in the creation of a short story masterpiece. \n",
    "* A short story is more likely to be considered a masterpiece when narrated from a point of view that is different from the norm for stories in that genre.\n",
    "* Our main character is not an island, they need to be connected to other people to move the story and thus, building these people is just as important as building the main character.\n",
    "* Characters need to interact with one another to clue readers into what is going on and drive the story forward.\n",
    "* How your characters feel and move are just as important as what they say\n",
    "* Positive or negative themes do not matter, telling a balanced story does.\n",
    "\n",
    "We have also observed some elements that might resonate more with audiences of one region than with audiences of another. For instance, the idea of family for African audiences seems to include both the nuclear and extended family. \n",
    "\n",
    "Finally, we used machine learning to train a machine model to help writers better target their audience or even capture audiences of other regions by identifying which story will resonate more with an African audience than a European one and vice versa. Although, our classifier model is still crude and misidentifies some European stories, as I have already demonstrated, by increasing the dataset for European stories to enable our classifier identify more unique features, we can further this project and gradually increase the accuracy of our model to become a more useful tool to established and upcoming writers."
   ]
  },
  {
   "cell_type": "markdown",
   "metadata": {},
   "source": [
    "# Additional References \n",
    "\n",
    "Learning Resources:\n",
    "* http://www.nltk.org/howto/sentiment.html\n",
    "* https://www.opensourceforu.com/2016/12/analysing-sentiments-nltk/\n",
    "* http://www.nltk.org/book/\n",
    "* https://towardsdatascience.com/introduction-to-data-visualization-in-python-89a54c97fbed\n",
    "\n",
    "Additional Stories Used for Testing:\n",
    "* afrtest1.txt: https://www.addastories.org/marry-african-president/\n",
    "* afrtest2.txt: https://www.addastories.org/the-dawning/\n",
    "* afrtest3.txt: https://johannesburgreviewofbooks.com/2019/02/04/new-short-fiction-the-neighbourhood-watch-by-remy-ngamije/\n",
    "* eurtest1.txt: https://www.euprizeliterature.eu/authors/sophie-daull\n",
    "* eurtest2.txt: https://www.theguardian.com/books/2017/oct/03/read-the-edge-of-the-shoal-by-cynan-jones-winner-of-the-bbc-national-short-story-award"
   ]
  }
 ],
 "metadata": {
  "kernelspec": {
   "display_name": "Python 3",
   "language": "python",
   "name": "python3"
  },
  "language_info": {
   "codemirror_mode": {
    "name": "ipython",
    "version": 3
   },
   "file_extension": ".py",
   "mimetype": "text/x-python",
   "name": "python",
   "nbconvert_exporter": "python",
   "pygments_lexer": "ipython3",
   "version": "3.7.6"
  }
 },
 "nbformat": 4,
 "nbformat_minor": 2
}
